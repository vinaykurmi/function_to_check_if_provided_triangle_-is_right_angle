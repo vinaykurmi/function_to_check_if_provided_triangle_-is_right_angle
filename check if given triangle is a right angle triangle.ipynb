{
 "cells": [
  {
   "cell_type": "code",
   "execution_count": 1,
   "metadata": {},
   "outputs": [],
   "source": [
    "def right_angle_triangle():\n",
    "    a = int(input('Enter the side 1 of triangle :'))\n",
    "    b = int(input('Enter the side 2 of triangle :'))\n",
    "    c = int(input('Enter the side 2 of triangle :'))\n",
    "    x,y,z = a**2,b**2,c**2\n",
    "    if max(x,y,z) ==(x+y+z - max(x,y,z)):\n",
    "        print(\"It is a right triangle.\")\n",
    "    else:\n",
    "        print(\"It is not a right triangle.\")"
   ]
  },
  {
   "cell_type": "code",
   "execution_count": 2,
   "metadata": {},
   "outputs": [
    {
     "name": "stdout",
     "output_type": "stream",
     "text": [
      "Enter the side 1 of triangle :23\n",
      "Enter the side 2 of triangle :34\n",
      "Enter the side 2 of triangle :56\n",
      "It is not a right triangle.\n"
     ]
    }
   ],
   "source": [
    "right_angle_triangle()"
   ]
  },
  {
   "cell_type": "code",
   "execution_count": 3,
   "metadata": {},
   "outputs": [
    {
     "name": "stdout",
     "output_type": "stream",
     "text": [
      "Enter the side 1 of triangle :3\n",
      "Enter the side 2 of triangle :4\n",
      "Enter the side 2 of triangle :5\n",
      "It is a right triangle.\n"
     ]
    }
   ],
   "source": [
    "right_angle_triangle()"
   ]
  }
 ],
 "metadata": {
  "kernelspec": {
   "display_name": "Python 3",
   "language": "python",
   "name": "python3"
  },
  "language_info": {
   "codemirror_mode": {
    "name": "ipython",
    "version": 3
   },
   "file_extension": ".py",
   "mimetype": "text/x-python",
   "name": "python",
   "nbconvert_exporter": "python",
   "pygments_lexer": "ipython3",
   "version": "3.8.5"
  }
 },
 "nbformat": 4,
 "nbformat_minor": 4
}
